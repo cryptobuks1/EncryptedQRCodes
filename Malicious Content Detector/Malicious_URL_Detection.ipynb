{
  "nbformat": 4,
  "nbformat_minor": 0,
  "metadata": {
    "colab": {
      "name": "Malicious URL Detection.ipynb",
      "provenance": []
    },
    "kernelspec": {
      "name": "python3",
      "display_name": "Python 3"
    }
  },
  "cells": [
    {
      "cell_type": "code",
      "metadata": {
        "id": "H2Z1hik4x6-5",
        "colab_type": "code",
        "colab": {}
      },
      "source": [
        "import pandas as pd\n",
        "import numpy as np\n",
        "import matplotlib.pyplot as plt, matplotlib.gridspec as gridspec \n",
        "import itertools    \n",
        "import pickle\n",
        "\n",
        "from scipy.sparse import csr_matrix, hstack, vstack\n",
        "from sklearn.feature_extraction.text import TfidfVectorizer, CountVectorizer, HashingVectorizer\n",
        "from sklearn.metrics import precision_score, recall_score, f1_score, classification_report, confusion_matrix\n",
        "from sklearn.model_selection import train_test_split\n",
        "from sklearn.decomposition import TruncatedSVD\n",
        "from sklearn.preprocessing import StandardScaler\n",
        "\n",
        "from sklearn.linear_model import LogisticRegression\n",
        "from sklearn.svm import SVC\n",
        "from sklearn.ensemble import RandomForestClassifier\n",
        "import lightgbm as lgb\n",
        "import xgboost as xgb\n",
        "\n",
        "%matplotlib inline"
      ],
      "execution_count": 0,
      "outputs": []
    },
    {
      "cell_type": "code",
      "metadata": {
        "id": "2obOOfzsOOhs",
        "colab_type": "code",
        "colab": {}
      },
      "source": [
        "def getTokens(input):\n",
        "    tokensBySlash = str(input.encode('utf-8')).split('/')\n",
        "    allTokens = []\n",
        "    for i in tokensBySlash:\n",
        "        tokens = str(i).split('-')\n",
        "        tokensByDot = []\n",
        "        for j in range(0,len(tokens)):\n",
        "            tempTokens = str(tokens[j]).split('.')\n",
        "            tokensByDot = tokensByDot + tempTokens\n",
        "        allTokens = allTokens + tokens + tokensByDot\n",
        "    allTokens = list(set(allTokens))\n",
        "    if 'com' in allTokens:\n",
        "        allTokens.remove('com')\n",
        "    return allTokens\n",
        "\n",
        "def trim(url):\n",
        "    return re.match(r'(?:\\w*://)?(?:.*\\.)?([a-zA-Z-1-9]*\\.[a-zA-Z]{1,}).*', url).groups()[0]\n",
        "\n",
        "def sanitization(web):                   \n",
        "  web = web.lower()\n",
        "  token = []\n",
        "  dot_token_slash = []\n",
        "  raw_slash = str(web).split('/')\n",
        "  for i in raw_slash:\n",
        "      raw1 = str(i).split('-')            # removing slash to get token\n",
        "      slash_token = []\n",
        "      for j in range(0,len(raw1)):\n",
        "          raw2 = str(raw1[j]).split('.')  # removing dot to get the tokens\n",
        "          slash_token = slash_token + raw2\n",
        "      dot_token_slash = dot_token_slash + raw1 + slash_token # all tokens\n",
        "  token = list(set(dot_token_slash))      # to remove same words  \n",
        "  if 'com' in token:\n",
        "      token.remove('com')                 # remove com\n",
        "  return token\n",
        "\n",
        "def makeTokens(f):\n",
        "    tkns_BySlash = str(f.encode('utf-8')).split('/')\t# make tokens after splitting by slash\n",
        "    total_Tokens = []\n",
        "    for i in tkns_BySlash:\n",
        "        tokens = str(i).split('-')\t# make tokens after splitting by dash\n",
        "        tkns_ByDot = []\n",
        "        for j in range(0,len(tokens)):\n",
        "            temp_Tokens = str(tokens[j]).split('.')\t# make tokens after splitting by dot\n",
        "            tkns_ByDot = tkns_ByDot + temp_Tokens\n",
        "        total_Tokens = total_Tokens + tokens + tkns_ByDot\n",
        "    total_Tokens = list(set(total_Tokens))\t#remove redundant tokens\n",
        "    if 'com' in total_Tokens:\n",
        "        total_Tokens.remove('com')\t#removing .com since it occurs a lot of times and it should not be included in our features\n",
        "    return total_Tokens"
      ],
      "execution_count": 0,
      "outputs": []
    },
    {
      "cell_type": "code",
      "metadata": {
        "id": "HJkly2SdTgzk",
        "colab_type": "code",
        "colab": {}
      },
      "source": [
        "def plot_confusion_matrix(cm, target_names, title='Confusion matrix', cmap=None, normalize=True):\n",
        "\n",
        "    accuracy = np.trace(cm) / np.sum(cm).astype('float')\n",
        "    misclass = 1 - accuracy\n",
        "\n",
        "    if cmap is None:\n",
        "        cmap = plt.get_cmap('Blues')\n",
        "\n",
        "    plt.imshow(cm, interpolation='nearest', cmap=cmap)\n",
        "    plt.title(title)\n",
        "    plt.colorbar()\n",
        "\n",
        "    if target_names is not None:\n",
        "        tick_marks = np.arange(len(target_names))\n",
        "        plt.xticks(tick_marks, target_names)\n",
        "        plt.yticks(tick_marks, target_names)\n",
        "\n",
        "    if normalize:\n",
        "        cm = cm.astype('float') / cm.sum(axis=1)[:, np.newaxis]\n",
        "\n",
        "\n",
        "    thresh = cm.max() / 1.5 if normalize else cm.max() / 2\n",
        "    for i, j in itertools.product(range(cm.shape[0]), range(cm.shape[1])):\n",
        "        if normalize:\n",
        "            plt.text(j, i, \"{:0.4f}\".format(cm[i, j]),\n",
        "                     horizontalalignment=\"center\",\n",
        "                     color=\"white\" if cm[i, j] > thresh else \"black\")\n",
        "        else:\n",
        "            plt.text(j, i, \"{:,}\".format(cm[i, j]),\n",
        "                     horizontalalignment=\"center\",\n",
        "                     color=\"white\" if cm[i, j] > thresh else \"black\")\n",
        "\n",
        "\n",
        "    plt.tight_layout()\n",
        "    plt.ylabel('True label')\n",
        "    plt.xlabel('Predicted label\\naccuracy={:0.4f}; misclass={:0.4f}'.format(accuracy, misclass))\n",
        "    plt.show()"
      ],
      "execution_count": 0,
      "outputs": []
    },
    {
      "cell_type": "code",
      "metadata": {
        "id": "Jqf8jcG5aGGj",
        "colab_type": "code",
        "colab": {}
      },
      "source": [
        "def get_max(data):\n",
        "  result = list()\n",
        "  for _data in data:\n",
        "    result.append(np.argmax(_data))\n",
        "  return np.array(result)"
      ],
      "execution_count": 0,
      "outputs": []
    },
    {
      "cell_type": "code",
      "metadata": {
        "id": "XL70Fh1VoA0V",
        "colab_type": "code",
        "colab": {}
      },
      "source": [
        "# evaluation functions for different models\n",
        "\n",
        "def lgb_f1_score(preds, train_data):\n",
        "    y_train = train_data.get_label()\n",
        "    preds = (preds >= 0.5).astype(int)\n",
        "    return 'f1_score', f1_score(y_train, preds), True\n",
        "\n",
        "def xgb_f1_score(preds, train_data):\n",
        "    y_train = train_data.get_label()\n",
        "    preds = (preds >= 0.5).astype(int)\n",
        "    return 'f1_score', f1_score(y_train, preds)"
      ],
      "execution_count": 0,
      "outputs": []
    },
    {
      "cell_type": "code",
      "metadata": {
        "id": "cEbd4WsPM4Kt",
        "colab_type": "code",
        "colab": {}
      },
      "source": [
        "data = pd.read_csv(\"/content/url-dataset.csv\", encoding = 'latin-1')\n",
        "\n",
        "y = data['label']\n",
        "corpus = data['url']\n",
        "vectorizer = TfidfVectorizer(tokenizer=makeTokens)\n",
        "X = vectorizer.fit_transform(corpus)\n",
        "\n",
        "X_train, X_test, y_train, y_test = train_test_split(X, y, test_size=0.3, random_state=42)"
      ],
      "execution_count": 0,
      "outputs": []
    },
    {
      "cell_type": "code",
      "metadata": {
        "id": "es5h_UcYa8Ly",
        "colab_type": "code",
        "colab": {
          "base_uri": "https://localhost:8080/",
          "height": 528
        },
        "outputId": "9f5470e5-e94b-4bf7-8986-1a6f666194a7"
      },
      "source": [
        "logreg_model = LogisticRegression()\t\n",
        "logreg_model.fit(X_train, y_train)\n",
        "y_pred = logreg_model.predict(X_test)\n",
        "classification = classification_report(y_test, y_pred, digits=2)\n",
        "print(classification)\n",
        "cm = confusion_matrix(y_test, y_pred)\n",
        "plot_confusion_matrix(cm, ['Bad URL','Good URL'], title = 'LogisticRegression')\n",
        "with open('logreg_model.pkl','wb') as file_out:\n",
        "  pickle.dump(logreg_model,file_out)"
      ],
      "execution_count": 212,
      "outputs": [
        {
          "output_type": "stream",
          "text": [
            "/usr/local/lib/python3.6/dist-packages/sklearn/linear_model/logistic.py:432: FutureWarning: Default solver will be changed to 'lbfgs' in 0.22. Specify a solver to silence this warning.\n",
            "  FutureWarning)\n"
          ],
          "name": "stderr"
        },
        {
          "output_type": "stream",
          "text": [
            "              precision    recall  f1-score   support\n",
            "\n",
            "           0       1.00      1.00      1.00       731\n",
            "           1       1.00      1.00      1.00       781\n",
            "\n",
            "    accuracy                           1.00      1512\n",
            "   macro avg       1.00      1.00      1.00      1512\n",
            "weighted avg       1.00      1.00      1.00      1512\n",
            "\n"
          ],
          "name": "stdout"
        },
        {
          "output_type": "display_data",
          "data": {
            "image/png": "[encoded data removed]",
            "text/plain": [
              "<Figure size 432x288 with 2 Axes>"
            ]
          },
          "metadata": {
            "tags": []
          }
        }
      ]
    },
    {
      "cell_type": "code",
      "metadata": {
        "id": "E40rjUWmlB7K",
        "colab_type": "code",
        "colab": {
          "base_uri": "https://localhost:8080/",
          "height": 528
        },
        "outputId": "121c4ea8-132e-4790-8dbc-dea7ea4dcca7"
      },
      "source": [
        "svd = TruncatedSVD(n_components = 15)\n",
        "svd.fit(vstack((X_train, X_test)).tocsr())\n",
        "x_train_svd = svd.transform(X_train)\n",
        "x_dev_svd = svd.transform(X_test)\n",
        "\n",
        "# scaling the data obtained from SVD\n",
        "scaler = StandardScaler()\n",
        "scaler.fit(np.concatenate((x_train_svd, x_dev_svd)))\n",
        "x_train_svd = scaler.transform(x_train_svd)\n",
        "x_dev_svd = scaler.transform(x_dev_svd)\n",
        "\n",
        "svc_model = SVC(C = 0.1, probability = True)\n",
        "svc_model.fit(x_train_svd, y_train)\n",
        "\n",
        "y_pred = svc_model.predict(x_dev_svd)\n",
        "classification = classification_report(y_test, y_pred, digits=2)\n",
        "print(classification)\n",
        "cm = confusion_matrix(y_test, y_pred)\n",
        "plot_confusion_matrix(cm, ['Bad URL','Good URL'], title = 'SVM Classifier')\n",
        "with open('svc_model.pkl','wb') as file_out:\n",
        "  pickle.dump(svc_model,file_out)"
      ],
      "execution_count": 213,
      "outputs": [
        {
          "output_type": "stream",
          "text": [
            "/usr/local/lib/python3.6/dist-packages/sklearn/svm/base.py:193: FutureWarning: The default value of gamma will change from 'auto' to 'scale' in version 0.22 to account better for unscaled features. Set gamma explicitly to 'auto' or 'scale' to avoid this warning.\n",
            "  \"avoid this warning.\", FutureWarning)\n"
          ],
          "name": "stderr"
        },
        {
          "output_type": "stream",
          "text": [
            "              precision    recall  f1-score   support\n",
            "\n",
            "           0       1.00      1.00      1.00       731\n",
            "           1       1.00      1.00      1.00       781\n",
            "\n",
            "    accuracy                           1.00      1512\n",
            "   macro avg       1.00      1.00      1.00      1512\n",
            "weighted avg       1.00      1.00      1.00      1512\n",
            "\n"
          ],
          "name": "stdout"
        },
        {
          "output_type": "display_data",
          "data": {
            "image/png": "[encoded data removed]",
            "text/plain": [
              "<Figure size 432x288 with 2 Axes>"
            ]
          },
          "metadata": {
            "tags": []
          }
        }
      ]
    },
    {
      "cell_type": "code",
      "metadata": {
        "id": "9Hy-uvclpxUZ",
        "colab_type": "code",
        "colab": {
          "base_uri": "https://localhost:8080/",
          "height": 528
        },
        "outputId": "7eca5edd-8085-4c0c-c001-8b46ef759eeb"
      },
      "source": [
        "rf_model = RandomForestClassifier(max_depth=12, random_state=0)\n",
        "rf_model.fit(X_train, y_train)\n",
        "y_pred = rf_model.predict(X_test)\n",
        "classification = classification_report(y_test, y_pred, digits=2)\n",
        "print(classification)\n",
        "cm = confusion_matrix(y_test, y_pred)\n",
        "plot_confusion_matrix(cm, ['Bad URL','Good URL'], title = 'Random Forest')\n",
        "with open('rf_model.pkl','wb') as file_out:\n",
        "  pickle.dump(rf_model,file_out)"
      ],
      "execution_count": 214,
      "outputs": [
        {
          "output_type": "stream",
          "text": [
            "/usr/local/lib/python3.6/dist-packages/sklearn/ensemble/forest.py:245: FutureWarning: The default value of n_estimators will change from 10 in version 0.20 to 100 in 0.22.\n",
            "  \"10 in version 0.20 to 100 in 0.22.\", FutureWarning)\n"
          ],
          "name": "stderr"
        },
        {
          "output_type": "stream",
          "text": [
            "              precision    recall  f1-score   support\n",
            "\n",
            "           0       0.98      1.00      0.99       731\n",
            "           1       1.00      0.98      0.99       781\n",
            "\n",
            "    accuracy                           0.99      1512\n",
            "   macro avg       0.99      0.99      0.99      1512\n",
            "weighted avg       0.99      0.99      0.99      1512\n",
            "\n"
          ],
          "name": "stdout"
        },
        {
          "output_type": "display_data",
          "data": {
            "image/png": "[encoded data removed]",
            "text/plain": [
              "<Figure size 432x288 with 2 Axes>"
            ]
          },
          "metadata": {
            "tags": []
          }
        }
      ]
    },
    {
      "cell_type": "code",
      "metadata": {
        "id": "iwLN4g5kmrXt",
        "colab_type": "code",
        "colab": {
          "base_uri": "https://localhost:8080/",
          "height": 474
        },
        "outputId": "b7188644-ec49-41f0-ad05-c75a3c53d16b"
      },
      "source": [
        "d_train = lgb.Dataset(X_train, label = y_train)\n",
        "d_dev = lgb.Dataset(X_test, label = y_test)\n",
        "valid_sets = [d_train, d_dev]\n",
        "\n",
        "params = {'learning_rate': 0.2,\n",
        "          'application': 'binary',\n",
        "          'num_leaves': 31,\n",
        "          'verbosity': -1,\n",
        "          'bagging_fraction': 0.8,\n",
        "          'feature_fraction': 0.6,\n",
        "          'nthread': 4,\n",
        "          'lambda_l1': 1,\n",
        "          'lambda_l2': 1}\n",
        "\n",
        "lgb_model = lgb.train(params,\n",
        "                  train_set = d_train,\n",
        "                  num_boost_round = 25,\n",
        "                  valid_sets = valid_sets,\n",
        "                  feval = lgb_f1_score,\n",
        "                  verbose_eval = False)\n",
        "\n",
        "lgb_dev_pred = lgb_model.predict(X_test)\n",
        "y_pred = (lgb_dev_pred >= 0.5).astype(int)\n",
        "classification = classification_report(y_test, y_pred, digits=2)\n",
        "print(classification)\n",
        "cm = confusion_matrix(y_test, y_pred)\n",
        "plot_confusion_matrix(cm, ['Bad URL','Good URL'], title = 'LGB Classifier')\n",
        "with open('lgb_model.pkl','wb') as file_out:\n",
        "  pickle.dump(lgb_model,file_out)"
      ],
      "execution_count": 215,
      "outputs": [
        {
          "output_type": "stream",
          "text": [
            "              precision    recall  f1-score   support\n",
            "\n",
            "           0       1.00      1.00      1.00       731\n",
            "           1       1.00      1.00      1.00       781\n",
            "\n",
            "    accuracy                           1.00      1512\n",
            "   macro avg       1.00      1.00      1.00      1512\n",
            "weighted avg       1.00      1.00      1.00      1512\n",
            "\n"
          ],
          "name": "stdout"
        },
        {
          "output_type": "display_data",
          "data": {
            "image/png": "[encoded data removed]",
            "text/plain": [
              "<Figure size 432x288 with 2 Axes>"
            ]
          },
          "metadata": {
            "tags": []
          }
        }
      ]
    },
    {
      "cell_type": "code",
      "metadata": {
        "id": "0XTzGCNPoLSk",
        "colab_type": "code",
        "colab": {
          "base_uri": "https://localhost:8080/",
          "height": 528
        },
        "outputId": "a43d3522-ecd6-42a8-dbdd-2009164a468d"
      },
      "source": [
        "d_train = xgb.DMatrix(X_train, label = y_train)\n",
        "d_dev = xgb.DMatrix(X_test, label = y_test)\n",
        "evallist = [(d_train, 'train'), (d_dev, 'valid')]\n",
        "\n",
        "params = {'booster' : 'gbtree',\n",
        "          'nthread' : 4,\n",
        "          'eta' : 0.2,\n",
        "          'max_depth' : 6,\n",
        "          'min_child_weight' : 4,\n",
        "          'subsample' : 0.7,\n",
        "          'colsample_bytree' : 0.7,\n",
        "          'objective' : 'binary:logistic'}\n",
        "\n",
        "xgb_model = xgb.train(params, \n",
        "                  d_train, \n",
        "                  num_boost_round = 21,\n",
        "                  evals = evallist,\n",
        "                  feval = xgb_f1_score,\n",
        "                  verbose_eval = False)\n",
        "\n",
        "xgb_dev_pred = xgb_model.predict(d_dev, ntree_limit = 21)\n",
        "y_pred = (xgb_dev_pred >= 0.5).astype(int)\n",
        "classification = classification_report(y_test, y_pred, digits=2)\n",
        "print(classification)\n",
        "cm = confusion_matrix(y_test, y_pred)\n",
        "  plot_confusion_matrix(cm, ['Bad URL','Good URL'], title = 'XGB Classifier')\n",
        "  with open('xgb_model.pkl','wb') as file_out:\n",
        "    pickle.dump(xgb_model,file_out)"
      ],
      "execution_count": 216,
      "outputs": [
        {
          "output_type": "stream",
          "text": [
            "/usr/local/lib/python3.6/dist-packages/xgboost/core.py:587: FutureWarning: Series.base is deprecated and will be removed in a future version\n",
            "  if getattr(data, 'base', None) is not None and \\\n"
          ],
          "name": "stderr"
        },
        {
          "output_type": "stream",
          "text": [
            "              precision    recall  f1-score   support\n",
            "\n",
            "           0       1.00      1.00      1.00       731\n",
            "           1       1.00      1.00      1.00       781\n",
            "\n",
            "    accuracy                           1.00      1512\n",
            "   macro avg       1.00      1.00      1.00      1512\n",
            "weighted avg       1.00      1.00      1.00      1512\n",
            "\n"
          ],
          "name": "stdout"
        },
        {
          "output_type": "display_data",
          "data": {
            "image/png": "[encoded data removed]",
            "text/plain": [
              "<Figure size 432x288 with 2 Axes>"
            ]
          },
          "metadata": {
            "tags": []
          }
        }
      ]
    },
    {
      "cell_type": "code",
      "metadata": {
        "id": "YCN1WgjqbTVh",
        "colab_type": "code",
        "colab": {
          "base_uri": "https://localhost:8080/",
          "height": 34
        },
        "outputId": "7235cea1-e6c0-4d23-d950-27aa18c6a7c7"
      },
      "source": [
        "X_predict = [\"google.com/search=jcharistech\",\"google.com/search=faizanahmad\",\"pakistanifacebookforever.com/getpassword.php/\", \"www.radsport-voggel.de/wp-admin/includes/log.exe\", \n",
        "\"ahrenhei.without-transfer.ru/nethost.exe \",\"www.itidea.it/centroesteticosothys/img/_notes/gum.exe\"]\n",
        "a = vectorizer.transform(X_predict)\n",
        "\n",
        "logreg_model.predict_proba(a)"
      ],
      "execution_count": 219,
      "outputs": [
        {
          "output_type": "execute_result",
          "data": {
            "text/plain": [
              "array([0.96863125, 0.03136875])"
            ]
          },
          "metadata": {
            "tags": []
          },
          "execution_count": 219
        }
      ]
    }
  ]
}